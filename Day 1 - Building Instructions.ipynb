{
 "cells": [
  {
   "cell_type": "markdown",
   "metadata": {},
   "source": [
    "# Welcome to IMC Bright Futures, with GoPiGo\n",
    "\n",
    "<img src=\"resources/dex_logo.jpg\" class=\"pull-right\" />\n",
    "\n",
    "## Activities\n",
    "\n",
    "#### Day 1\n",
    "* Building the GoPiGo\n",
    "* Connecting to your robot\n",
    "* Learning to write programs (Minecraft fun!)\n",
    "* Tests using Jupyter and Python\n",
    "* Simple programs in Python (a walkthrough)\n",
    "* Advanced programming tasks\n",
    "\n",
    "<img src=\"resources/python_icon.png\" class=\"img-rounded pull-right\" />\n",
    "#### Day 2\n",
    "* Obstacle Course Challenge!\n",
    "\n",
    "<br /><br /><br /><br />\n",
    "\n",
    "<p>Welcome to 2 great days of engineering, robotics, building and challenges! We hope you have a great time with the GoPiGo!</p>\n",
    "<p>These instructions are adapted from the Dexter Industries instructions on their website. If you would like to view their instructions, go <a href-\"http://www.dexterindustries.com/GoPiGo/getting-started-with-your-gopigo-raspberry-pi-robot-kit-2/1-assemble-the-gopigo-2/assemble-gopigo-raspberry-pi-robot/1-assemble-the-gopigo2/\">here.</a></p>"
   ]
  },
  {
   "cell_type": "markdown",
   "metadata": {},
   "source": [
    "<img src=\"resources/checkpoint.jpg\" class=\"pull-right\" style=\"height:160px;\">\n",
    "____\n",
    "\n",
    "## Checkpoints\n",
    "\n",
    "Checkpoints will be throughout the instructions and at the end of most Notebooks. Get them all signed to show how well your team has worked together!\n",
    "\n",
    "**Careful** - don't move forward until you have had the checkpoint signed. It's also a way of ensuring youre on the right track and ready to go!\n",
    "____\n"
   ]
  },
  {
   "cell_type": "markdown",
   "metadata": {},
   "source": [
    "# Building Instructions "
   ]
  },
  {
   "cell_type": "markdown",
   "metadata": {
    "collapsed": false
   },
   "source": [
    "Start by collecting all your tools and parts. Lay them out in front of you and check they are all there. Open the boxes and put all the parts, in their bags, in front of you. If anything is missing or there are any issues, see one of the Workshop Facilitators.\n",
    "\n",
    "You should have:\n",
    "\n",
    "* 2 wheels\n",
    "* 2 black encoder wheels\n",
    "* 4 acrylic spacer donuts\n",
    "* 4 t-shaped pieces)\n",
    "* 2 bags of hardware (2 mini posts, 2 small posts, and 4 long posts; 4 long bolts, 20 small screws, 20 washers, 8 small nuts, and 1 caster wheel)\n",
    "* 2 large acrylic pieces\n",
    "* 2 yellow motors\n",
    "* Battery Box (that fits 8 AA batteries) - we will not be using this, as we have a replacement battery\n",
    "* 1 Velcro strap\n",
    "* GoPiGo Board (red)\n",
    "* Power cable\n"
   ]
  },
  {
   "cell_type": "markdown",
   "metadata": {
    "collapsed": false
   },
   "source": [
    "## Part 1: CHECK YOU HAVE EVERYTHING\n",
    "<div class=\"row\">\n",
    "    <div class=\"col-xs-12\" style=\"padding:10px;\">\n",
    "        <img src=\"resources/gopigo_images/part_1.png\">\n",
    "        <p>Arrange all the parts you will need, as listed above, with a few alterations: you won't have H, I or K (The battery holder, strap and cable in that order), but you will have a different kind of battery cable, some velcro, and a screwdriver.</p>\n",
    "    </div>\n",
    "</div>"
   ]
  },
  {
   "cell_type": "markdown",
   "metadata": {},
   "source": [
    "_________________________\n",
    "\n",
    "## Part 2 :: REMOVE PACKING MATERIALS\n",
    "<div class=\"row\">\n",
    "    <div class=\"col-xs-12\" style=\"padding:10px;\">\n",
    "        <p>You'll want to peel off the protective plastic off the large acrylic parts (F and G above) and paper off the encoders (Little wheels with heaps of spokes, part (B) above.)</p>\n",
    "    </div>\n",
    "</div>"
   ]
  },
  {
   "cell_type": "markdown",
   "metadata": {
    "collapsed": true
   },
   "source": [
    "_________________________\n",
    "\n",
    "## Part 3 :: WHICH WAY IS UP?\n",
    "<div class=\"row\">\n",
    "    <div class=\"col-xs-4\" style=\"padding:10px;\">\n",
    "        <h4>Step A</h4>\n",
    "        <p>We’ll start with the acrylic body plate of the GoPiGo. It’s the largest acrylic part. The easiest way to figure out which way is up is to lay the red GoPiGo board on top of the acrylic board and line up the holes. To better illustrate this step in our guide, we’ve used a piece of acrylic with the paper wrapping still on to make it easier to see the board. But your acrylic pieces will be clear.</p>\n",
    "        <img src=\"resources/gopigo_images/step_a.png\">\n",
    "    </div>\n",
    "    <div class=\"col-xs-4\" style=\"padding:10px;\">\n",
    "        <h4>Step B</h4>\n",
    "        <p>You should see two holes line up for attaching the circuit board. In this step, we’ll find these holes, and connect a washer, screw and mini post to remind us which way is up.</p>\n",
    "        <img src=\"resources/gopigo_images/step_b.png\">\n",
    "    </div>\n",
    "    <div class=\"col-xs-4\" style=\"padding:10px;\">\n",
    "        <h4>Step C</h4>\n",
    "        <p>Use a screw with a washer on one side and attach the mini post to the side you have determined to be “up”. The mini post attached to the board is shown above.</p>\n",
    "        <img src=\"resources/gopigo_images/step_c.png\">\n",
    "    </div>\n",
    "</div>"
   ]
  },
  {
   "cell_type": "markdown",
   "metadata": {
    "collapsed": true
   },
   "source": [
    "<div class=\"row\">\n",
    "    <div class=\"col-xs-4\" style=\"padding:10px;\">\n",
    "        <h4>Step D</h4>\n",
    "        <p>Last but not least, double check that the mini posts you’ve just put in the acrylic properly line up with the two holes on the GoPiGo board.</p>\n",
    "        <img src=\"resources/gopigo_images/step_d.png\">\n",
    "    </div>\n",
    "    <div class=\"col-xs-4\" style=\"padding:10px;\">\n",
    "        <h4>Step E</h4>\n",
    "        <p>We will **not attach** the GoPiGo board in this step, we are just ensuring the acrylic, posts, and board are properly aligned.</p>\n",
    "        <img src=\"resources/gopigo_images/step_e.png\">\n",
    "    </div>\n",
    "</div>"
   ]
  },
  {
   "cell_type": "markdown",
   "metadata": {},
   "source": [
    "_________________________\n",
    "\n",
    "## Part 4 :: ATTACH THE MOTORS\n",
    "<div class=\"row\">\n",
    "    <div class=\"col-xs-4\" style=\"padding:10px;\">\n",
    "        <h4>Step A</h4>\n",
    "        <p>To attach the motors to the chassis, we’ll first find the 4 long bolts, prepare them, and then use the acrylic “T”s in the kit to attach the motors. Be careful when screwing the motor in place: if you over-tighten the bolts you can crack the acrylic.</p>\n",
    "        <img src=\"resources/gopigo_images/3_step_a.png\">\n",
    "    </div>\n",
    "    <div class=\"col-xs-4\" style=\"padding:10px;\">\n",
    "        <h4>Step B</h4>\n",
    "        <p>Find the 4 long screws and corresponding washers. Prepare the bolts by attaching 1 washer to each bolt as shown in the picture.</p>\n",
    "        <img src=\"resources/gopigo_images/3_step_b.png\">\n",
    "    </div>\n",
    "    <div class=\"col-xs-4\" style=\"padding:10px;\">\n",
    "        <h4>Step C</h4>\n",
    "        <p>Next we find the 4 acrylic “T”‘s.</p>\n",
    "        <img src=\"resources/gopigo_images/3_step_c.png\">\n",
    "    </div>\n",
    "</div>"
   ]
  },
  {
   "cell_type": "markdown",
   "metadata": {},
   "source": [
    "<div class=\"row\">\n",
    "    <div class=\"col-xs-4\" style=\"padding:10px;\">\n",
    "        <h4>Step D</h4>\n",
    "        <p>Insert both T’s from the top of the big acrylic piece. Flip over the acrylic body so the bottom part of the T’s are now sticking up, like in the picture below.\n",
    "</p><p>\n",
    "At this point, the mini posts you screwed in should be facing down (red arrows are pointing towards these), and you are working on the bottom side of the body (where you will attach the motors).</p>\n",
    "        <img src=\"resources/gopigo_images/3_step_d.png\">\n",
    "    </div>\n",
    "    <div class=\"col-xs-4\" style=\"padding:10px;\">\n",
    "        <h4>Step E</h4>\n",
    "        <p>Now use the 4 long bolts (that you prepared by putting on the washers) and slide them in both holes on each T. Insert them from the inside so they are sticking out as shown in the picture.</p>\n",
    "        <img src=\"resources/gopigo_images/3_step_e.png\">\n",
    "    </div>\n",
    "    <div class=\"col-xs-4\" style=\"padding:10px;\">\n",
    "        <h4>Step F</h4>\n",
    "        <p>Next, slide the motors on to the bolts as shown in the picture. The motor wires should be pointing towards the back of the GoPiGo, which is the rounded part of the acrylic.</p>\n",
    "        <img src=\"resources/gopigo_images/3_step_f.png\">\n",
    "    </div>\n",
    "</div>"
   ]
  },
  {
   "cell_type": "markdown",
   "metadata": {},
   "source": [
    "<div class=\"row\">\n",
    "    <div class=\"col-xs-4\" style=\"padding:10px;\">\n",
    "        <h4>Step G</h4>\n",
    "        <p>Slide another acrylic “T” through the bolts sticking through the motor to act as a brace and hold it in place. Fasten a nut onto each bolt to hold the T in place like the pictures below.\n",
    "</p>\n",
    "        <img src=\"resources/gopigo_images/3_step_g.png\">\n",
    "    </div>\n",
    "    <div class=\"col-xs-4\" style=\"padding:10px;\">\n",
    "        <h4>Step H</h4>\n",
    "        <p>Hand tighten the nuts to hold the motors in place. Tighten the screws as much as you can. It can be hard to fit a screw driver in between the motors, so just hand tighten the nuts as much as you can from the outside.</p>\n",
    "        <img src=\"resources/gopigo_images/3_step_h.png\">\n",
    "    </div>\n",
    "</div>"
   ]
  },
  {
   "cell_type": "markdown",
   "metadata": {},
   "source": [
    "_________________________\n",
    "\n",
    "## Part 5 :: ATTACH ENCODERS AND SPACER DONUTS\n",
    "<div class=\"row\">\n",
    "    <div class=\"col-xs-4\" style=\"padding:10px;\">\n",
    "        <h4>Step A</h4>\n",
    "        <p>The encoders for the GoPiGo are cut in black (just take off the paper) and look like a little wheel. They fit on the inside of the motors, and poke through the acrylic body. They provide feedback on speed, direction and distance traveled to the motors. Most of the time the motors will work fine without them, but they can be used to control and refine the action of the motors.</p>\n",
    "        <img src=\"resources/gopigo_images/4_step_a.png\">\n",
    "        <img src=\"resources/gopigo_images/4_step_a_2.png\">\n",
    "    </div>\n",
    "    <div class=\"col-xs-4\" style=\"padding:10px;\">\n",
    "        <h4>Step B</h4>\n",
    "        <p>First, we’ll attach the 4 spacer donuts shown in the picture above. You can remove the protective paper. Slide one onto each of the white motor axles.</p>\n",
    "        <img src=\"resources/gopigo_images/4_step_b.png\">\n",
    "    </div>\n",
    "    <div class=\"col-xs-4\" style=\"padding:10px;\">\n",
    "        <h4>Step C</h4>\n",
    "        <p>Now with the spacer donuts attached, attach the encoder wheels to the inside of the motors. The encoders slide onto the white motor axles.</p>\n",
    "        <img src=\"resources/gopigo_images/4_step_c.png\">\n",
    "    </div>\n",
    "</div>"
   ]
  },
  {
   "cell_type": "markdown",
   "metadata": {},
   "source": [
    "_________________________\n",
    "\n",
    "## Part 6 :: ATTACH THE GOPIGO BOARD\n",
    "<div class=\"row\">\n",
    "    <div class=\"col-xs-4\" style=\"padding:10px;\">\n",
    "        <h4>Step A</h4>\n",
    "        <p>Now, flip the GoPiGo back over to the other side, so the motors are on the bottom and the posts are facing up. First place the GoPiGo board onto the spacers and line them up with the holes in the board. Use the small screws to attach the red GoPiGo board to the mini posts attached to the acrylic board.</p>\n",
    "        <img src=\"resources/gopigo_images/5_step_a.png\">\n",
    "    </div>\n",
    "    <div class=\"col-xs-4\" style=\"padding:10px;\">\n",
    "        <h4>Step B</h4>\n",
    "        <p>The mounting holes are as shown in the picture. Please put the two screws in these holes, and mount the board tightly to the GoPiGo body.</p>\n",
    "        <img src=\"resources/gopigo_images/5_step_b.png\">\n",
    "    </div>\n",
    "</div>"
   ]
  },
  {
   "cell_type": "markdown",
   "metadata": {},
   "source": [
    "_________________________\n",
    "\n",
    "## Part 7 :: ATTACH THE CASTER WHEEL\n",
    "<br /><br />\n",
    "<div class=\"row\">\n",
    "    <div class=\"col-xs-4\">\n",
    "        The GoPiGo comes with three types of metal posts. We’ve already used the shortest of posts to mount the GoPiGo board. The 4 longest posts are for the canopy (top). The other posts you have left right now are for attaching the caster wheel.\n",
    "    </div>\n",
    "    <div class=\"col-xs-4 col-xs-offset-2\">\n",
    "        <img src=\"resources/gopigo_images/6_lead.png\">\n",
    "    </div>\n",
    "</div>\n",
    "<div class=\"row\">\n",
    "    <div class=\"col-xs-4\" style=\"padding:10px;\">\n",
    "        <h4>Step A</h4>\n",
    "        <p>You will need the 2 caster wheel posts, 4 compression washers, and 4 short screws.</p>\n",
    "        <img src=\"resources/gopigo_images/6_step_a.png\">\n",
    "    </div>\n",
    "    <div class=\"col-xs-4\" style=\"padding:10px;\">\n",
    "        <h4>Step B</h4>\n",
    "        <p>First, attach two posts to the caster wheel with 2 screws and 2 washers. Be sure to use the compression washers between the screws and the caster wheel. Tighten the screws as much as you can. It is okay if they lean in slightly.</p>\n",
    "        <img src=\"resources/gopigo_images/6_step_b.png\">\n",
    "    </div>\n",
    "    <div class=\"col-xs-4\" style=\"padding:10px;\">\n",
    "        <h4>Step C</h4>\n",
    "        <p>Finally, attach the caster wheel to the acrylic body. Attach the caster wheel to the bottom of the GoPiGo, which is on the same side as the motors.</p>\n",
    "        <img src=\"resources/gopigo_images/6_step_c.png\">\n",
    "    </div>\n",
    "</div>"
   ]
  },
  {
   "cell_type": "markdown",
   "metadata": {},
   "source": [
    "_________________________\n",
    "\n",
    "## Part 8 :: ATTACH THE WHEEL\n",
    "\n",
    "<div class=\"row\">\n",
    "    <div class=\"col-xs-4\" style=\"padding:10px;\">\n",
    "        <h4>Step A</h4>\n",
    "        <p>For this part, we’ll be attaching the wheels to the GoPiGo. You have already placed the spacer donuts on the white axle on the motor. That is where you will now attach the wheels. Be careful when attaching them, and check to see that the screws are not rubbing against the wheel. If they are, just pull the wheel off a little bit so they do not touch the screws.</p>\n",
    "        <img src=\"resources/gopigo_images/7_step_a.png\">\n",
    "    </div>\n",
    "    <div class=\"col-xs-4\" style=\"padding:10px;\">\n",
    "        <h4>Step B</h4>\n",
    "        <p>Check the gap between the wheel and the screws. The wheels should not rub against the screws, and the wheel should be able to rotate freely.</p>\n",
    "        <img src=\"resources/gopigo_images/7_step_b.png\">\n",
    "    </div>\n",
    "</div>"
   ]
  },
  {
   "cell_type": "markdown",
   "metadata": {},
   "source": [
    "<img src=\"resources/checkpoint.jpg\" class=\"pull-right\" style=\"height:140px;\">\n",
    "____\n",
    "\n",
    "## Checkpoint\n",
    "Get that slip signed!\n",
    "____\n"
   ]
  },
  {
   "cell_type": "markdown",
   "metadata": {},
   "source": [
    "_________________________\n",
    "\n",
    "## Part 9 :: ATTACH THE RASPBERRY PI AND CANOPY POSTS\n",
    "<br /><br />\n",
    "<div class=\"row\">\n",
    "    <div class=\"col-xs-4\">\n",
    "       In this part we will attach the Raspberry Pi and the 4 large posts. We will need the longest 4 posts, 4 screws, and 4 compression washers. You'll need to get the Raspberry Pi itself from a teacher or mentor - ask if you have any questions.\n",
    "    </div>\n",
    "    <div class=\"col-xs-4 col-xs-offset-2\">\n",
    "        <img src=\"resources/gopigo_images/8_lead.png\">\n",
    "    </div>\n",
    "</div>\n",
    "<div class=\"row\">\n",
    "    <div class=\"col-xs-4\" style=\"padding:10px;\">\n",
    "        <h4>Step A</h4>\n",
    "        <p>Make sure the power is off – there is a switch on the red GoPiGo board, so make sure that is switched to “off”.</p>\n",
    "        <img src=\"resources/gopigo_images/8_step_a.png\">\n",
    "    </div>\n",
    "    <div class=\"col-xs-4\" style=\"padding:10px;\">\n",
    "        <h4>Step B</h4>\n",
    "        <p>Slide the Raspberry Pi (green board) on the GoPiGo as shown in the picture below. You will line up the metal pins on the Raspberry Pi with the black female part on the GoPiGo board. Push down to make sure it is in all the way and secure.</p>\n",
    "        <img src=\"resources/gopigo_images/8_step_b.png\">\n",
    "    </div>\n",
    "    <div class=\"col-xs-4\" style=\"padding:10px;\">\n",
    "        <h4>Step C</h4>\n",
    "        <p>Next, attach the 4 metal posts to the GoPiGo body with the screws and compression washers.</p>\n",
    "        <img src=\"resources/gopigo_images/8_step_c.png\">\n",
    "    </div>\n",
    "</div>"
   ]
  },
  {
   "cell_type": "markdown",
   "metadata": {},
   "source": [
    "_________________________\n",
    "\n",
    "## Part 10 :: INSERT THE SD CARD\n",
    "<br /><br />\n",
    "<div class=\"row\">\n",
    "    <div class=\"col-xs-4\">\n",
    "       <p>The SD Card is the hard drive of the GoPiGo Robot. We will insert it into the Raspberry Pi (the green board).\n",
    "</p><p>\n",
    "<strong>A note of caution:</strong> never remove the SD card while the robot is powered on. The posts behind the SD card are designed to prevent the SD card from being knocked out. Removing the SD card while the GoPiGo is powered can corrupt the SD Card.</p>\n",
    "    </div>\n",
    "</div>\n",
    "<div class=\"row\">\n",
    "    <div class=\"col-xs-4\" style=\"padding:10px;\">\n",
    "        <p>Hold the microSD Card from the sides, careful not to touch the metal on the card with your fingers. Turn the microSD Card so that the metal pins are facing down, towards the Raspberry Pi. Insert the miscroSD card into the metal slot on the Raspberry Pi until you hear a “click”. When you hear the “click” the microSD Card is properly inserted.</p>\n",
    "        <img src=\"resources/gopigo_images/9_step_b.png\">\n",
    "    </div>\n",
    "</div>"
   ]
  },
  {
   "cell_type": "markdown",
   "metadata": {},
   "source": [
    "_________________________\n",
    "\n",
    "## Part 11 :: ATTACH THE CANOPY\n",
    "\n",
    "<div class=\"row\">\n",
    "    <div class=\"col-xs-4\" style=\"padding:10px;\">\n",
    "        <h4>Intro</h4>\n",
    "        <p>Now with the Raspberry Pi mounted to the GoPiGo and the SD Card in place, we will attach the acrylic canopy to the top of the GoPiGo. We’ll need 4 short screws, and 4 compression washers.</p>\n",
    "        <img src=\"resources/gopigo_images/10_lead.png\">\n",
    "    </div>\n",
    "    <div class=\"col-xs-4\" style=\"padding:10px;\">\n",
    "        <h4>Step A</h4>\n",
    "        <p>Place the canopy on top of the GoPiGo, turning it so that the lettering is readable from the outside. Attach the four screws with washers on them and then tighten them with your screwdriver. The four screws are highlighted with yellow lines in the picture below.</p>\n",
    "        <img src=\"resources/gopigo_images/10_step_a.png\">\n",
    "    </div>\n",
    "</div>"
   ]
  },
  {
   "cell_type": "markdown",
   "metadata": {},
   "source": [
    "_________________________\n",
    "\n",
    "## Part 12 :: ATTACH THE BATTERY \n",
    "<div class=\"row\">\n",
    "    <div class=\"col-xs-4\" style=\"padding:10px;\">\n",
    "        <h4>Step A</h4>\n",
    "        <p>First, separate your velcro into the hook part and the loop (softer) part. Ensure you don't peel the back (white plastic) off the velcro yet.</p>\n",
    "    </div>\n",
    "    <div class=\"col-xs-4\" style=\"padding:10px;\">\n",
    "        <h4>Step B</h4>\n",
    "        <p>Stick the hook side (rougher-feeling) of the velcro onto the robot body, preferably on the back above the caster wheel. Try to centre the battery.</p>\n",
    "    </div>\n",
    "    <div class=\"col-xs-4\" style=\"padding:10px;\">\n",
    "        <h4>Step C</h4>\n",
    "        <p>Stick the other side of the velcro onto the battery, trying to centre it as best possible and ensuring you place the velcro parallel to the long axis of the battery, and ensure the two parts can connect together.</p>\n",
    "    </div>\n",
    "    <div class=\"col-xs-4\" style=\"padding:10px;\">\n",
    "        <h4>Step D</h4>\n",
    "        <p>Connect the power cable into the battery, and then into the robot. Everything can only go one way, but be careful!</p>\n",
    "    </div>\n",
    "</div>"
   ]
  },
  {
   "cell_type": "markdown",
   "metadata": {},
   "source": [
    "_________________________\n",
    "\n",
    "## Part 13 :: POWER UP!\n",
    "<br /><br />\n",
    "<div class=\"row\">\n",
    "    <div class=\"col-xs-4\">\n",
    "       <p>Make sure the red GoPiGo on/off switch is still turned to “off”, and then we will connect the motors. First, flip the GoPiGo over and look at the bottom of the GoPiGo where the yellow motors are.</p>\n",
    "    </div>\n",
    "    <div class=\"col-xs-4 col-xs-offset-2\">\n",
    "        <img src=\"resources/gopigo_images/12_lead.png\">\n",
    "    </div>\n",
    "</div>\n",
    "<div class=\"row\">\n",
    "    <div class=\"col-xs-4\" style=\"padding:10px;\">\n",
    "        <h4>Step A</h4>\n",
    "        <p>Each motor has a white and black wire on it. Connect the white wire and black wire to the motor pins on the bottom of the GoPiGo board. The wires will need to pass through the holes on the acrylic body and slide on to the metal pins in the red GoPiGo board.</p>\n",
    "        <img src=\"resources/gopigo_images/12_step_a.png\">\n",
    "    </div>\n",
    "    <div class=\"col-xs-4\" style=\"padding:10px;\">\n",
    "        <h4>Step A</h4>\n",
    "        <p>Connect the motors as shown. The wire colors should be placed in an alternating pattern. Notice that the color of the motor connectors runs black, white, black, white.\n",
    "</p><p>\n",
    "However, this alternating pattern is not a hard and fast rule, so when you test in the steps coming up, you might switch one set of wires around.</p>\n",
    "        <img src=\"resources/gopigo_images/12_step_b.png\">\n",
    "    </div>\n",
    "    <div class=\"col-xs-4\" style=\"padding:10px;\">\n",
    "        <h4>Step A</h4>\n",
    "        <p>After you connect and test the GoPiGo in the next few steps you may find that…\n",
    "</p><p>\n",
    "Motors run backwards: switch the black and white wires for both motors.\n",
    "</p><p>\n",
    "Wheels spin in opposite directions while trying to go straight: find the one that is running backwards and just switch the white and black wires around for that motor.</p>\n",
    "        <img src=\"resources/gopigo_images/12_step_c.png\">\n",
    "    </div>\n",
    "</div>"
   ]
  },
  {
   "cell_type": "markdown",
   "metadata": {},
   "source": [
    "_________________________\n",
    "\n",
    "## Checkpoint!\n",
    "Make sure you get that slip signed!\n",
    "____\n"
   ]
  },
  {
   "cell_type": "markdown",
   "metadata": {},
   "source": [
    "# Minecraft!\n",
    "Let's learn the basics of programming and coding.. It's important you know some of these so you can get your robot working!\n",
    "<a href=\"http://www.code.org/mc\" target=\"_blank\">Check out this playground!</a>\n",
    "\n",
    "\n",
    "<img src=\"resources/checkpoint.jpg\" class=\"pull-right\" style=\"height:160px;\">\n",
    "<br /><br />\n",
    "## Checkpoint!\n",
    "Once you're done, and you can show your facilitator that you know basics, move on!\n",
    "\n",
    "____\n",
    "\n",
    "Ready to start testing and programming your GoPiGo? [Get connected and run some tests!](Day 1 - Connecting and running tests GoPiGo.ipynb)\n",
    "\n"
   ]
  }
 ],
 "metadata": {
  "anaconda-cloud": {},
  "kernelspec": {
   "display_name": "Python [Root]",
   "language": "python",
   "name": "Python [Root]"
  },
  "language_info": {
   "codemirror_mode": {
    "name": "ipython",
    "version": 2
   },
   "file_extension": ".py",
   "mimetype": "text/x-python",
   "name": "python",
   "nbconvert_exporter": "python",
   "pygments_lexer": "ipython2",
   "version": "2.7.12"
  }
 },
 "nbformat": 4,
 "nbformat_minor": 0
}
