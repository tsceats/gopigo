{
 "cells": [
  {
   "cell_type": "markdown",
   "metadata": {},
   "source": [
    "# Attaching the servo and ultrasonic sensor\n",
    "\n",
    "Part of this project includes using the servo and ultrasonic sensor. Follow these instructions to add it to the robot.\n",
    "\n",
    "These instructions are adapted from the originals by <a href=\"http://www.dexterindustries.com/GoPiGo/getting-started-with-your-gopigo-raspberry-pi-robot-kit-2/1-assemble-the-gopigo-2/assemble-servo-package-assemble-the-raspberry-pi-robot-servo-kit-with-the-gopigo/\" target=\"_blank\">Dexter Industries</a>\n",
    "\n",
    "## Part 1 :: Unpackage the Servo Package\n",
    "\n",
    "<div class=\"row\">\n",
    "    <div class=\"col-xs-4\" style=\"padding:10px;\">\n",
    "        <h4>Step A</h4>\n",
    "        <p>The GoPiGo Servo Packaged</p>\n",
    "        <img src=\"resources/servo/servo_1.jpg\">\n",
    "    </div>\n",
    "    <div class=\"col-xs-4\" style=\"padding:10px;\">\n",
    "        <h4>Step B</h4>\n",
    "        <p>The contents of the GoPiGo Servo Package. Two bags of screws, a bag of acrylic parts, and the servo.</p>\n",
    "        <img src=\"resources/servo/servo_2.jpg\">\n",
    "    </div>\n",
    "    <div class=\"col-xs-4\" style=\"padding:10px;\">\n",
    "        <h4>Step C</h4>\n",
    "        <p>Find the two acrylic “T”‘s and the faceplate.</p>\n",
    "        <img src=\"resources/servo/servo_3.jpg\">\n",
    "    </div>\n",
    "</div>"
   ]
  },
  {
   "cell_type": "markdown",
   "metadata": {},
   "source": [
    "## Part 2 :: Assemble the Servo Package\n",
    "\n",
    "<div class=\"row\">\n",
    "    <div class=\"col-xs-4\" style=\"padding:10px;\">\n",
    "        <h4>Step A</h4>\n",
    "        <p>First, place the servo into the faceplate.  Three pictures are shown below of the servo placed into the faceplate.  The ledge of the servo, opposite the servo shaft (the white piece of plastic coming out of the servo), should be placed through the slot on the bottom of the acrylic faceplate.</p>\n",
    "        <img src=\"resources/servo/servo_4.jpg\">\n",
    "    </div>\n",
    "    <div class=\"col-xs-4\" style=\"padding:10px;\">\n",
    "        <h4></h4>\n",
    "        <p></p>\n",
    "        <img src=\"resources/servo/servo_5.jpg\">\n",
    "    </div>\n",
    "    <div class=\"col-xs-4\" style=\"padding:10px;\">\n",
    "        <h4>Step B</h4>\n",
    "        <p>Slide the two “T”‘s provided in, through the front of the faceplate, alongside the servo.</p>\n",
    "        <img src=\"resources/servo/servo_6.jpg\">\n",
    "    </div>\n",
    "</div>"
   ]
  },
  {
   "cell_type": "markdown",
   "metadata": {},
   "source": [
    "<div class=\"row\">\n",
    "    <div class=\"col-xs-6\" style=\"padding:10px;\">\n",
    "        <h4>Step D</h4>\n",
    "        <p>Place the long screw supplied with the servo package through the two holes at the end of the “T”s.</p>\n",
    "        <img src=\"resources/servo/servo_7.jpg\">\n",
    "    </div>\n",
    "    <div class=\"col-xs-6\" style=\"padding:10px;\">\n",
    "        <h4>Step E</h4>\n",
    "        <p>Slide the white servo lip onto the servo shaft.</p>\n",
    "        <img src=\"resources/servo/servo_8.jpg\">\n",
    "    </div>\n",
    "</div>\n",
    "<div class=\"row\">\n",
    "    <div class=\"col-xs-6\" style=\"padding:10px;\">\n",
    "        <h4>Step F</h4>\n",
    "        <p>Find the small wood screws that came inside the servo package.</p>\n",
    "        <img src=\"resources/servo/servo_9.jpg\">\n",
    "    </div>\n",
    "    <div class=\"col-xs-6\" style=\"padding:10px;\">\n",
    "        <h4>Step G</h4>\n",
    "        <p>Take one of the small woodscrews and connect the servo to the servo lip.</p>\n",
    "        <img src=\"resources/servo/servo_7.jpg\">\n",
    "    </div>\n",
    "</div>"
   ]
  },
  {
   "cell_type": "markdown",
   "metadata": {},
   "source": [
    "# Part 3 :: Attach the servo to the body\n",
    "\n",
    "The servo can be attached to the top, or the bottom of the robot. \n",
    "\n",
    "<div class=\"row\">\n",
    "    <div class=\"col-xs-6\" style=\"padding:10px;\">\n",
    "        <h4>Step A</h4>\n",
    "        <p>Top canopy slot in focus.</p>\n",
    "        <img src=\"resources/servo/3_servo_1.jpg\">\n",
    "    </div>\n",
    "    <div class=\"col-xs-6\" style=\"padding:10px;\">\n",
    "        <h4>Step B</h4>\n",
    "        <p>Bottom servo mount in focus, on the chassis.</p>\n",
    "        <img src=\"resources/servo/3_servo_2.jpg\">\n",
    "    </div>\n",
    "</div>"
   ]
  },
  {
   "cell_type": "markdown",
   "metadata": {},
   "source": [
    "Open up the holes in the servo lip by screwing in one of the included large woodscrews.  Pick two holes on the lip, screw the woodscrew in, and unscrew it.\n",
    "\n",
    "<div class=\"row\">\n",
    "    <div class=\"col-xs-6\" style=\"padding:10px;\">\n",
    "        <h4>Step C</h4>\n",
    "        <p>Widening the holes on the servo lip.</p>\n",
    "        <img src=\"resources/servo/3_servo_3.jpg\">\n",
    "    </div>\n",
    "    <div class=\"col-xs-6\" style=\"padding:10px;\">\n",
    "        <h4>Step D</h4>\n",
    "        <p>Invert the GoPiGo.  Screw the servo into the slot running down the GoPiGo.</p>\n",
    "        <img src=\"resources/servo/3_servo_4.jpg\">\n",
    "    </div>\n",
    "</div>"
   ]
  },
  {
   "cell_type": "markdown",
   "metadata": {},
   "source": [
    "The servo cable connects on the bottom of the GoPiGo2.  The brown wire is ground, and this should be connected to the GoPiGo board so that it’s facing away from the small robot painted on the board.\n",
    "\n",
    "<div class=\"row\">\n",
    "    <div class=\"col-xs-6\" style=\"padding:10px;\">\n",
    "        <h4>Step E</h4>\n",
    "        <p>Servo cable orientation on the GoPiGo2.</p>\n",
    "        <img src=\"resources/servo/3_servo_5.jpg\">\n",
    "    </div>\n",
    "</div>"
   ]
  },
  {
   "cell_type": "markdown",
   "metadata": {},
   "source": [
    "The ultrasonic sensor can be attached to the servo faceplate with two of the screws that come with the servo package.  The ultrasonic sensor has two screw holes to allow for attaching.\n",
    "\n",
    "<div class=\"row\">\n",
    "    <div class=\"col-xs-6\" style=\"padding:10px;\">\n",
    "        <h4>Step F</h4>\n",
    "        <p>Screw from the front of the sensor to the faceplate on the servo</p>\n",
    "        <img src=\"resources/servo/3_servo_6.jpg\">\n",
    "    </div>\n",
    "    <div class=\"col-xs-6\" style=\"padding:10px;\">\n",
    "        <h4>Step G</h4>\n",
    "        <p>Back view</p>\n",
    "        <img src=\"resources/servo/3_servo_7.jpg\">\n",
    "    </div>\n",
    "</div>"
   ]
  },
  {
   "cell_type": "markdown",
   "metadata": {},
   "source": [
    "<div class=\"row\">\n",
    "    <div class=\"col-xs-6\" style=\"padding:10px;\">\n",
    "        <h4>Step H</h4>\n",
    "        <p>Attach the cable to the LEFT port on the GoPiGo</p>\n",
    "        <img src=\"resources/servo/3_servo_8.jpg\">\n",
    "    </div>\n",
    "    <div class=\"col-xs-6\" style=\"padding:10px;\">\n",
    "        <h4>Step I</h4>\n",
    "        <p>Finished!</p>\n",
    "        <img src=\"resources/servo/3_servo_9.jpg\">\n",
    "    </div>\n",
    "</div>"
   ]
  }
 ],
 "metadata": {
  "anaconda-cloud": {},
  "kernelspec": {
   "display_name": "Python [Root]",
   "language": "python",
   "name": "Python [Root]"
  },
  "language_info": {
   "codemirror_mode": {
    "name": "ipython",
    "version": 2
   },
   "file_extension": ".py",
   "mimetype": "text/x-python",
   "name": "python",
   "nbconvert_exporter": "python",
   "pygments_lexer": "ipython2",
   "version": "2.7.12"
  }
 },
 "nbformat": 4,
 "nbformat_minor": 0
}
