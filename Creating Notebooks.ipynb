{
 "cells": [
  {
   "cell_type": "markdown",
   "metadata": {},
   "source": [
    "# Creating Notebooks\n",
    "\n",
    "A quick guide on creating notebooks for code editing / driving the GoPiGo\n",
    "\n",
    "<div class=\"row\">\n",
    "    <div class=\"col-xs-6 col-xs-offset-3\">\n",
    "        <h3>Step 1</h3>\n",
    "        <img src=\"resources/creating_notebooks/Home.png\">\n",
    "        <p>In the main interface, select the \"New\" button\" and click \"Notebook\"</p>\n",
    "    </div>\n",
    "</div>\n",
    "<p></p>\n",
    "<div class=\"row\">\n",
    "    <div class=\"col-xs-6 col-xs-offset-3\">\n",
    "        <h3>Step 2</h3>\n",
    "        <img src=\"resources/creating_notebooks/Creating_Notebooks.png\">\n",
    "        <p>As the new window opens, Click \"File -> Rename\". Call the file something relevant (Like \"Tests\" or \"Obstacle Course\".</p>\n",
    "    </div>\n",
    "</div>\n",
    "<p></p>\n",
    "<div class=\"row\">\n",
    "    <div class=\"col-xs-6 col-xs-offset-3\">\n",
    "        <h3>Step 3</h3>\n",
    "        <img src=\"resources/creating_notebooks/Creating_Notebooks_2.png\">\n",
    "        <p>Select the top line by ensuring your cursor is in the line, and make sure the drop down in the middle says \"Code\". </p>\n",
    "        <p>Start typing the code!</p>\n",
    "        <p>Once you're done, press the Shift+Enter keys on the keyboard and the code will run! You can also use the \"Cell->Run Cell\" menu.</p>\n",
    "    </div>\n",
    "</div>"
   ]
  }
 ],
 "metadata": {
  "kernelspec": {
   "display_name": "Python [Root]",
   "language": "python",
   "name": "Python [Root]"
  },
  "language_info": {
   "codemirror_mode": {
    "name": "ipython",
    "version": 2
   },
   "file_extension": ".py",
   "mimetype": "text/x-python",
   "name": "python",
   "nbconvert_exporter": "python",
   "pygments_lexer": "ipython2",
   "version": "2.7.12"
  }
 },
 "nbformat": 4,
 "nbformat_minor": 0
}
