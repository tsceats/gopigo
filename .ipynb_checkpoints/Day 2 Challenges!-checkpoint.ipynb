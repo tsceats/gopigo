{
 "cells": [
  {
   "cell_type": "markdown",
   "metadata": {},
   "source": [
    "# Day 2 Challenges!\n",
    "\n",
    "There is a new and exciting challenge today! You will demonstrate:\n",
    "\n",
    "* Driving up to an object and checking distance, then backing away\n",
    "* Driving up to 2 objects at right angles, checking which way you can turn, turning and driving forward\n",
    "* As you're driving forward, checking when the object is no longer next to you, driving further to clear the body of the robot, then turning and continuing straight ahead\n",
    "* completing a varied obstacle course\n",
    "\n",
    "This will be tricky! It will require you to use a few different methods in your implementation of the program. Let's have a look at what some of these might look like!\n",
    "\n"
   ]
  },
  {
   "cell_type": "markdown",
   "metadata": {},
   "source": [
    "# Driving up, checking distance and backing away\n",
    "\n",
    "The best idea is to drive and check distance repeatedly until you want to stop. We can do this using loops. You should understand loops from the Minecraft tasks before. Basially, it's where we continually cycle through a series of tasks while something is within a given boundary. That is, as long as it meets a certain set of conditions, we can continue to cycle.\n",
    "\n",
    "Check out the code:\n",
    "\n"
   ]
  },
  {
   "cell_type": "code",
   "execution_count": null,
   "metadata": {
    "collapsed": false
   },
   "outputs": [],
   "source": [
    "import * from gopigo\n",
    "import time\n",
    "\n",
    "# set the minimum distance our robot should remain from objects (in CM)\n",
    "min_distance = 5\n",
    "\n",
    "# Define a new method\n",
    "def autonomy():\n",
    "    no_obstacle = True;\n",
    "    while no_obstacle:\n",
    "        servo(70) # make sure the servo is pointed forward\n",
    "        time.sleep(1) # give it time to move, if necessary\n",
    "        \n",
    "        dist = # ENTER THE CODE! # get the current distance for the sensor\n",
    "        if dist > min_distance: # if the robot is MORE than the distance required away\n",
    "            print('Moving forward! Current distance: ', dist)\n",
    "            fwd() # drive forward!\n",
    "            time.sleep(1)\n",
    "        else:\n",
    "            print('Something in the way! About ', dist, 'cm')\n",
    "            stop()\n",
    "            # What do you need to do now?\n",
    "            \n",
    "        stop() # allows a stop to check distance\n",
    "        \n",
    "# This is required to make the robot run\n",
    "stop()\n",
    "enable_servo()\n",
    "servo(70)\n",
    "time.sleep(3)\n",
    "autonomy()\n",
    "# end of the program"
   ]
  },
  {
   "cell_type": "markdown",
   "metadata": {},
   "source": [
    "Ok, so the code isn't finished!\n",
    "\n",
    "You will need to finish it. Look at the challenges above and work it out\n",
    "* What was the code to check distance? \n",
    "* After the robot stops, what do you need to do?\n",
    "* Can you change the speed of your robot? How?\n",
    "\n",
    "<img src=\"resources/checkpoint.jpg\" class=\"pull-right\" style=\"height:160px;\">\n",
    "<br /><br />\n",
    "## Checkpoint!\n",
    "Once you're done, and you can show your facilitator that you can check distances, move on!\n",
    "\n",
    "____"
   ]
  },
  {
   "cell_type": "markdown",
   "metadata": {},
   "source": [
    "# Forward, stop, look and proceed\n",
    "\n",
    "It gets a little more complex here! We need to now go forward, making sure we don't run into anything, then if we come across an obstacle, reacting to it. How can we best do that? Let's see!"
   ]
  },
  {
   "cell_type": "code",
   "execution_count": null,
   "metadata": {
    "collapsed": true
   },
   "outputs": [],
   "source": [
    "import * from gopigo\n",
    "import time\n",
    "\n",
    "# Define a new method\n",
    "def autonomy():\n",
    "    no_obstacle = True;\n",
    "    while no_obstacle:\n",
    "        servo(70) # make sure the servo is pointed forward\n",
    "        time.sleep(1) # give it time to move, if necessary\n",
    "        \n",
    "        dist = us_dist(15) # get the current distance for the sensor\n",
    "        if dist > min_distance: \n",
    "            print('Moving forward! Current distance: ', dist)\n",
    "            fwd()\n",
    "            time.sleep(1)\n",
    "        else:\n",
    "            print('Something in the way! About ', dist)\n",
    "            stop()\n",
    "            servo(28)\n",
    "            time.sleep(1)\n",
    "            left_dir = us_dist(15)\n",
    "            time.sleep(1)\n",
    "            servo(112)\n",
    "            right_dir = us_dist(15)\n",
    "            time.sleep(1)\n",
    "            # Insert the code from above you used to finish this section!\n",
    "            \n",
    "            \n",
    "            if left_dir > right_dir and left_dir > min_distance:\n",
    "                print('Choose left!')\n",
    "                # finish this block!\n",
    "                \n",
    "            elif left_dir < right_dir and right_dir > min_distance:\n",
    "                print('Choose Right!')\n",
    "                # finish this block too!\n",
    "            else:\n",
    "                print('No good option, REVERSE!')\n",
    "                \n",
    "                #what should we do now? \n",
    "                #how long should we do it for?\n",
    "                \n",
    "                # this looks a bit hard - basically, it's choosing a random path\n",
    "                # to take. Can you fix it so it backs up, checks the best available difference\n",
    "                # left and right, then makes a more informed choice?\n",
    "                \n",
    "                rot_choices = [right_rot, left_rot]\n",
    "                rotation = rot_choices[random.randrange(0,2)]\n",
    "                rotation()\n",
    "                time.sleep(1)\n",
    "\n",
    "            \n",
    "            stop() # allows a stop to check distance\n",
    "        \n",
    "# This is required to make the robot run\n",
    "stop()\n",
    "enable_servo()\n",
    "servo(70)\n",
    "time.sleep(3)\n",
    "autonomy()\n",
    "# end of the program"
   ]
  },
  {
   "cell_type": "markdown",
   "metadata": {},
   "source": [
    "<img src=\"resources/checkpoint.jpg\" class=\"pull-right\" style=\"height:160px;\">\n",
    "<br /><br />\n",
    "## Checkpoint!\n",
    "Once you're done, and you can show your facilitator that you can check distances, move on!\n",
    "\n",
    "____\n",
    "\n",
    "# Last challenge!\n",
    "\n",
    "This one is hard. I'm only going to give you the first few lines of code. \n",
    "\n",
    "This time, I want you to make the robot follow you around the room. You might need to walk slowly, and you might need to set up a perimeter of objects. The idea is:\n",
    "\n",
    "It should start tracking you when you're within 150cm of the sensors.\n",
    "Once that happens, you should program it to come to you. as you walk away, it should follow you. If it can't find you, what should it do? Throw a tantrum? Flash lights? Search for you? What can you think of?"
   ]
  },
  {
   "cell_type": "code",
   "execution_count": null,
   "metadata": {
    "collapsed": true
   },
   "outputs": [],
   "source": [
    "import * from gopigo\n",
    "import time\n",
    "\n",
    "no_friend = True # here, I am setting a variable to tell the robot it has no friends\n",
    "\n",
    "# Define a new method\n",
    "def look_for_friend():\n",
    "    while no_friend:\n",
    "        servo(0)\n",
    "        for i in range(180):\n",
    "            servo(i)\n",
    "            if us_dist(15) < 151:\n",
    "                no_friend = False #found someone!\n",
    "                \n",
    "                # I am passing the current degree of the servo, as this will help find my friend!\n",
    "                turn_to_friend(i)\n",
    "\n",
    "def turn_to_friend(angle):\n",
    "    # turn to the friend\n",
    "    if angle < 70:\n",
    "        \n",
    "        # here I need to turn based on a measured rotation. This requires some math... \n",
    "        # work out how many rotations of the encoder is needed to turn the robot 90 degrees\n",
    "        # then turn the right motor forward that many rotations\n",
    "    elif angle > 70:\n",
    "        # what should we do here?\n",
    "        \n",
    "        \n",
    "        # Keep going!"
   ]
  }
 ],
 "metadata": {
  "anaconda-cloud": {},
  "kernelspec": {
   "display_name": "Python [Root]",
   "language": "python",
   "name": "Python [Root]"
  },
  "language_info": {
   "codemirror_mode": {
    "name": "ipython",
    "version": 2
   },
   "file_extension": ".py",
   "mimetype": "text/x-python",
   "name": "python",
   "nbconvert_exporter": "python",
   "pygments_lexer": "ipython2",
   "version": "2.7.12"
  }
 },
 "nbformat": 4,
 "nbformat_minor": 0
}
