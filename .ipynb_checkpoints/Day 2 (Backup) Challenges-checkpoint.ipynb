{
 "cells": [
  {
   "cell_type": "markdown",
   "metadata": {},
   "source": [
    "# No sensors? Start here!\n",
    "\n",
    "In case the sensors aren't available, you will need to rely on two other measures to achieve the goal. For this, I am only giving the intro parts of the code. You'll need to use the links below to work the rest out!\n",
    "\n",
    "## Activity\n",
    "* Make a maze, course or some type of 'path' for your robot.. \n",
    "* Go about working out how you can get the robot to navigate the maze/path\n",
    "* See how complex you can make it!\n",
    "* Think about all the steps in the process. How can you ensure the path is a safe one!\n",
    "\n",
    "### Basic robotics control\n",
    "Use <a href=\"http://www.dexterindustries.com/GoPiGo/programming/python-programming-for-the-raspberry-pi-gopigo/\" target=\"_blank\">this link</a> and use the section \"Motor control functions\" to guide your robot. What is the most efficient way?\n",
    "\n",
    "Start like this:"
   ]
  },
  {
   "cell_type": "code",
   "execution_count": null,
   "metadata": {
    "collapsed": false
   },
   "outputs": [],
   "source": [
    "from gopigo import * \n",
    "import time\n",
    "\n",
    "# how will you get the robot to navigate?"
   ]
  },
  {
   "cell_type": "markdown",
   "metadata": {},
   "source": [
    "# Want something more?\n",
    "\n",
    "There is a tutorial for creating a remote control robot using keyboard keys. \n",
    "\n",
    "Can you work through the tutorial and create a remote control robot?\n",
    "\n",
    "<a href=\"https://pythonprogramming.net/remote-control-robot-programming-tutorial/?completed=/robot-programming-basics-tutorial/\" target=\"_blank\">Check it out here</a>"
   ]
  },
  {
   "cell_type": "code",
   "execution_count": null,
   "metadata": {
    "collapsed": true
   },
   "outputs": [],
   "source": []
  }
 ],
 "metadata": {
  "anaconda-cloud": {},
  "kernelspec": {
   "display_name": "Python [Root]",
   "language": "python",
   "name": "Python [Root]"
  },
  "language_info": {
   "codemirror_mode": {
    "name": "ipython",
    "version": 2
   },
   "file_extension": ".py",
   "mimetype": "text/x-python",
   "name": "python",
   "nbconvert_exporter": "python",
   "pygments_lexer": "ipython2",
   "version": "2.7.12"
  }
 },
 "nbformat": 4,
 "nbformat_minor": 0
}
