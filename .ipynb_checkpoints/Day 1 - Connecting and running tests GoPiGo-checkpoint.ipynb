{
 "cells": [
  {
   "cell_type": "markdown",
   "metadata": {},
   "source": [
    "# Connecting\n",
    "\n",
    "Each GoPiGo robot has its own unique IP Address. All you need to do is:\n",
    "* Make sure your GoPiGo Robot is switched on\n",
    "* Open a web browser on your laptop or desktop computer\n",
    "* Type the IP address on the box into the web browser\n",
    "\n",
    "The Juypter interface should load for you, and you'll be able to start coding!\n",
    "\n",
    "<img src=\"resources/checkpoint.jpg\" class=\"pull-right\" style=\"height:150px;\">\n",
    "<br /><br />\n",
    "## Checkpoint! \n",
    "Get that slip signed!"
   ]
  },
  {
   "cell_type": "markdown",
   "metadata": {},
   "source": [
    "_______________\n",
    "\n",
    "# Running Tests\n",
    "\n",
    "The following code blocks will run some basic tests for you on the GoPiGo. All you need to do is type the code into a new Juypter Notebook your cursor in the block and presh Shift+Return on the keyboard, or click the \"Cell->Run Cell\" menu above.\n",
    "\n",
    "** NOTE ** These will not work here. Running them will result in an error. "
   ]
  },
  {
   "cell_type": "markdown",
   "metadata": {},
   "source": [
    "### Moving forward and backward\n",
    "\n",
    "* Connect to your Raspberry Pi in another browser tab. Then, open a new Notebook [(follow these insructions)](Creating Notebooks.ipynb)\n",
    "* **Carefully** type the code below. Always make sure you type the variables correctly, the lines must be spaced, and watch your syntax!"
   ]
  },
  {
   "cell_type": "code",
   "execution_count": null,
   "metadata": {
    "collapsed": true
   },
   "outputs": [],
   "source": [
    "# Make sure we import the libraries\n",
    "from gopigo import *\n",
    "import time\n",
    "\n",
    "# Set a variable for the delay\n",
    "# This is how long the bot will move for\n",
    "delay = 2\n",
    "\n",
    "# Check both motors are moving at the same speed\n",
    "set_left_speed(155)\n",
    "set_right_speed(155)\n",
    "\n",
    "# Move the bot forward for 2 seconds\n",
    "fwd()\n",
    "time.sleep(delay)\n",
    "bwd()\n",
    "time.sleep(delay)\n",
    "\n",
    "# Stop the bot!\n",
    "stop()"
   ]
  },
  {
   "cell_type": "markdown",
   "metadata": {},
   "source": [
    "<img class=\"pull-right\" style=\"height:150px;\" src=\"resources/checkpoint.jpg\">\n",
    "_____________\n",
    "\n",
    "## Checkpoint!\n",
    "Did your code work? Did you get it working? Find a facilitator and if you can tell them what the code is doing, you have reached the next checkpoint!\n",
    "\n",
    "### Answer this!\n",
    "\n",
    "* Try changing the delay - what did you find?\n",
    "* Change the motor speeds (make them the same, then make them different). What happened?\n",
    "* How could you modify this so the GoPiGo goes forward and backward, then backward and forward? Give it a go!\n",
    "\n",
    "_____\n",
    "\n",
    "### Turning on one wheel\n",
    "\n",
    "* Connect to your Raspberry Pi in another browser tab. Then, open a new Notebook [(follow these insructions)](Creating Notebooks.ipynb)\n",
    "* **Carefully** type the code below. Always make sure you type the variables correctly, the lines must be spaced, and watch your syntax!"
   ]
  },
  {
   "cell_type": "code",
   "execution_count": null,
   "metadata": {
    "collapsed": true
   },
   "outputs": [],
   "source": [
    "# Make sure we import the libraries\n",
    "from gopigo import *\n",
    "import time\n",
    "\n",
    "# Set a variable for the delay\n",
    "# This is how long the bot will move for\n",
    "delay = 3\n",
    "\n",
    "# Check both motors are moving at the same speed\n",
    "set_left_speed(155)\n",
    "set_right_speed(155)\n",
    "\n",
    "# Move the bot forward for 2 seconds\n",
    "left()\n",
    "time.sleep(delay)\n",
    "right()\n",
    "time.sleep(delay)\n",
    "\n",
    "# Stop the bot!\n",
    "stop()"
   ]
  },
  {
   "cell_type": "markdown",
   "metadata": {},
   "source": [
    "____\n",
    "\n",
    "### Challenge!\n",
    "* Make the robot do a full turn 360 degrees. \n",
    "    * You may have to change the code so it only turns one direction\n",
    "    * You may also have to change the delay, so it turns only so far\n",
    "    * How long did it take?\n",
    "    \n",
    "\n",
    "<img class=\"pull-right\" style=\"height:150px;\" src=\"resources/checkpoint.jpg\">\n",
    "___\n",
    "\n",
    "## Checkpoint!\n",
    "Did your code work? Did you get it working? Find a facilitator and if you can tell them what the code is doing, you have reached the next checkpoint!\n",
    "    \n",
    "____\n",
    "### Turning on the spot\n",
    "\n",
    "* Connect to your Raspberry Pi in another browser tab. Then, open a new Notebook [(follow these insructions)](Creating Notebooks.ipynb)\n",
    "* **Carefully** type the code below. Always make sure you type the variables correctly, the lines must be spaced, and watch your syntax!"
   ]
  },
  {
   "cell_type": "code",
   "execution_count": null,
   "metadata": {
    "collapsed": true
   },
   "outputs": [],
   "source": [
    "# Make sure we import the libraries\n",
    "from gopigo import *\n",
    "import time\n",
    "\n",
    "# Set a variable for the delay\n",
    "# This is how long the bot will move for\n",
    "delay = 3\n",
    "\n",
    "# Check both motors are moving at the same speed\n",
    "set_left_speed(155)\n",
    "set_right_speed(155)\n",
    "\n",
    "# Move the bot forward for 2 seconds\n",
    "left_rot()\n",
    "time.sleep(delay)\n",
    "right_rot()\n",
    "time.sleep(delay)\n",
    "\n",
    "# Stop the bot!\n",
    "stop()"
   ]
  },
  {
   "cell_type": "markdown",
   "metadata": {},
   "source": [
    "<img class=\"pull-right\" style=\"height:150px;\" src=\"resources/checkpoint.jpg\">\n",
    "____\n",
    "\n",
    "## Checkpoint!\n",
    "Did your code work? Did you get it working? Find a facilitator and if you can tell them what the code is doing, you have reached the next checkpoint!\n",
    "____\n",
    "\n",
    "### Answer this!\n",
    "* How whas this different to the previous turn? \n",
    "* Could you change the code to make it do a full rotation?\n",
    "* How long did this take?\n",
    "____\n",
    "\n",
    "### Testing the front sensor & servo\n",
    "\n",
    "* Connect to your Raspberry Pi in another browser tab. Then, open a new Notebook [(follow these insructions)](Creating Notebooks.ipynb)\n",
    "* **Carefully** type the code below. Always make sure you type the variables correctly, the lines must be spaced, and watch your syntax!"
   ]
  },
  {
   "cell_type": "code",
   "execution_count": null,
   "metadata": {
    "collapsed": true
   },
   "outputs": [],
   "source": [
    "# Make sure we import the libraries\n",
    "from gopigo import *\n",
    "import time\n",
    "\n",
    "# Set a variable for the angle you want the servo to be\n",
    "angle = 100\n",
    "\n",
    "# Initiate the servo motor\n",
    "enable_servo()\n",
    "move the servo motor\n",
    "for i in range(angle):\n",
    "    servo(i)\n",
    "    time.sleep(100)\n",
    "disable_servo()\n",
    "\n",
    "# Test the sensor (if the sensor is plugged into Port A1 (Pin 15))\n",
    "# Print distance once\n",
    "print us_dist(15)\n",
    "\n",
    "# Print it 10 times, one second apart\n",
    "for i in range(10):\n",
    "    print us_dist(15)\n",
    "    time.sleep(1)"
   ]
  },
  {
   "cell_type": "markdown",
   "metadata": {},
   "source": [
    "<img class=\"pull-right\" style=\"height:150px;\" src=\"resources/checkpoint.jpg\">\n",
    "____\n",
    "\n",
    "## Checkpoint!\n",
    "Show your facilitator what you have learnt! Get that slip signed!\n",
    "____\n",
    "\n",
    "### Answer this!\n",
    "* Change the angle on the servo. What happens? \n",
    "* As the loop runs for the distance sensor, move your hand or another object in front of it. What happens?\n",
    "* Can you work out how to:\n",
    "    * move the sensor, check the distance\n",
    "    * move it again, check the distance\n",
    "    * move it a third time, check the distance, and \n",
    "    * print the results?\n",
    "\n",
    "<img class=\"pull-right\" style=\"height:150px;\" src=\"resources/checkpoint.jpg\">\n",
    "____\n",
    "\n",
    "## Checkpoint!\n",
    "Show your facilitator what you have learnt! Get that slip signed!\n",
    "____"
   ]
  },
  {
   "cell_type": "code",
   "execution_count": null,
   "metadata": {
    "collapsed": true
   },
   "outputs": [],
   "source": []
  }
 ],
 "metadata": {
  "kernelspec": {
   "display_name": "Python [Root]",
   "language": "python",
   "name": "Python [Root]"
  },
  "language_info": {
   "codemirror_mode": {
    "name": "ipython",
    "version": 2
   },
   "file_extension": ".py",
   "mimetype": "text/x-python",
   "name": "python",
   "nbconvert_exporter": "python",
   "pygments_lexer": "ipython2",
   "version": "2.7.12"
  }
 },
 "nbformat": 4,
 "nbformat_minor": 0
}
