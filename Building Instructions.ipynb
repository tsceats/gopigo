{
 "cells": [
  {
   "cell_type": "markdown",
   "metadata": {},
   "source": [
    "# Welcome to IMC Bright Futures, with GoPiGo\n",
    "<img src=\"resources/Dexter/dex_logo.jpg\" class=\"pull-right\" />\n",
    "\n",
    "## Activities\n",
    "\n",
    "#### Day 1\n",
    "* Building the GoPiGo\n",
    "* Connecting to your robot\n",
    "* Tests using Jupyter and Python\n",
    "* Learning to write programs (Minecraft fun!)\n",
    "* Simple programs in Python (a walkthrough)\n",
    "* Advanced programming tasks\n",
    "\n",
    "<img src=\"resources/Dexter/python_icon.png\" class=\"img-rounded pull-right\" />\n",
    "#### Day 2\n",
    "* Obstacle Course Challenge!\n",
    "\n",
    "<br /><br /><br /><br />\n",
    "\n",
    "<p>Welcome to 2 great days of engineering, robotics, building and challenges! We hope you have a great time with Dexter, the GoPiGo!</p>"
   ]
  },
  {
   "cell_type": "markdown",
   "metadata": {},
   "source": [
    "# Building Instructions "
   ]
  },
  {
   "cell_type": "markdown",
   "metadata": {
    "collapsed": false
   },
   "source": [
    "### Step 1\n",
    "Start by collecting all your tools and parts. Lay them out in front of you and check they are all there. \n",
    "You should have:\n",
    "\n",
    "* GoPiGo Base Kit\n",
    "* GoPiGo Servo\n",
    "* WiFi Adapter\n",
    "* SD Card\n",
    "* Raspberry Pi 2\n",
    "* Screwdriver\n",
    "* 3D Printed protective parts\n",
    "\n",
    "Open the boxes and put all the parts, in their bags, in front of you. If anything is missing or there are any issues, see one of the Workshop Facilitators.\n",
    "\n",
    "The boxes will contain: \n",
    "\n",
    "* 2 wheels\n",
    "* GoPiGo Board (red) in a bag with a power cable\n",
    "* 2 motors\n",
    "* 2 bags with acrylic parts (2 large body pieces; 4 t-shaped pieces, 1 long piece, 2 black encoder wheels)\n",
    "* 2 bags of hardware (2 mini posts, 2 small posts, 2 medium posts and 4 long posts; 4 long bolts, 20 small screws, 8 small nuts, and a caster wheel)\n",
    "* battery box (that fits 8 AA batteries)"
   ]
  },
  {
   "cell_type": "markdown",
   "metadata": {
    "collapsed": false
   },
   "source": [
    "<img src=\"resources/Dexter/2-copy.jpg\">"
   ]
  },
  {
   "cell_type": "code",
   "execution_count": null,
   "metadata": {
    "collapsed": true
   },
   "outputs": [],
   "source": []
  },
  {
   "cell_type": "code",
   "execution_count": null,
   "metadata": {
    "collapsed": true
   },
   "outputs": [],
   "source": []
  }
 ],
 "metadata": {
  "anaconda-cloud": {},
  "kernelspec": {
   "display_name": "Python [Root]",
   "language": "python",
   "name": "Python [Root]"
  },
  "language_info": {
   "codemirror_mode": {
    "name": "ipython",
    "version": 2
   },
   "file_extension": ".py",
   "mimetype": "text/x-python",
   "name": "python",
   "nbconvert_exporter": "python",
   "pygments_lexer": "ipython2",
   "version": "2.7.12"
  }
 },
 "nbformat": 4,
 "nbformat_minor": 0
}
