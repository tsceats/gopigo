{
 "cells": [
  {
   "cell_type": "markdown",
   "metadata": {},
   "source": [
    "# Navigating the maze\n",
    "\n",
    "The goal of today is to navigate a maze. There are a number of things you will need to do first!\n",
    "\n",
    "** Our code library **\n",
    "The code library uses \"ticks\" to control the movement of the robot. One \"tick\" is one of the gaps on the black wheel under the motors. \n",
    "\n",
    "## Activity\n",
    "\n",
    "* move the robot along the line on the ground, using ticks.\n",
    "* Work out how many ticks it takes to travel the line\n",
    "\n",
    "Use the following code to get you started!"
   ]
  },
  {
   "cell_type": "code",
   "execution_count": null,
   "metadata": {
    "collapsed": true
   },
   "outputs": [],
   "source": [
    "#import library\n",
    "from lib import *\n",
    "\n",
    "# This line moves the robot forward, 1 tick\n",
    "fwd(1) #adjust this line to increase the distance the robot travels in ticks.\n",
    "stop()\n"
   ]
  },
  {
   "cell_type": "markdown",
   "metadata": {},
   "source": [
    "# Moving forward and turning\n",
    "Next, you need to move the robot down the line, and turn right or left, and then travel the next line. \n",
    "\n",
    "** Think about these things! **\n",
    "* How many ticks will it take to travel each line?\n",
    "* What is the best way to turn the robot\n",
    "\n",
    "* Finish the code below to move forward down the line, turn right or left, then drive to the end of the line."
   ]
  },
  {
   "cell_type": "code",
   "execution_count": null,
   "metadata": {
    "collapsed": true
   },
   "outputs": [],
   "source": [
    "#import library\n",
    "from lib import *\n",
    "\n",
    "# This line moves the robot forward, 1 tick\n",
    "fwd(1) #adjust this line to increase the distance the robot travels in ticks.\n",
    "left(1) #or is it better to use leftRot(1)?\n",
    "stop()"
   ]
  },
  {
   "cell_type": "markdown",
   "metadata": {},
   "source": [
    "## Activity\n",
    "* There will be a maze made for you\n",
    "* Go about working out how you can get the robot to navigate the maze/path\n",
    "* What is the most efficient path through the maze?\n",
    "* Think about all the steps in the process. How can you ensure the path is a safe one?\n",
    "\n",
    "### Library functions\n",
    "All the functions of the library are:\n",
    "\n",
    "* fwd(5) - Drive the robot forward.\n",
    "* back(5) - Drive the robot in reverse\n",
    "* left(5) - Turn the robot left on one wheel\n",
    "* right(5) - Turn the robot right on one wheel\n",
    "* leftRot(5) - Turn the robot left using both wheels (like a tractor)\n",
    "* rightRot(5) - Turn the robot right using both wheels (like a tractor)\n",
    "* stop() - Stop the robot - note there is ** no ** number inside the brackets!\n",
    "\n",
    "In all cases, the number inside the brackets is the number of ticks you want to travel. Change the number to the number of \"ticks\" you want to travel.\n",
    "\n",
    "Start like this:"
   ]
  },
  {
   "cell_type": "code",
   "execution_count": null,
   "metadata": {
    "collapsed": false
   },
   "outputs": [],
   "source": [
    "#import library\n",
    "from lib import *\n",
    "\n",
    "# What steps do you need to take to make the robot navigate the maze?\n",
    "\n",
    "stop()"
   ]
  },
  {
   "cell_type": "markdown",
   "metadata": {},
   "source": [
    "# Want something more?\n",
    "\n",
    "There is a tutorial for creating a remote control robot using keyboard keys. \n",
    "\n",
    "Can you work through the tutorial and create a remote control robot?\n",
    "\n",
    "<a href=\"https://pythonprogramming.net/remote-control-robot-programming-tutorial/?completed=/robot-programming-basics-tutorial/\" target=\"_blank\">Check it out here</a>"
   ]
  },
  {
   "cell_type": "code",
   "execution_count": null,
   "metadata": {
    "collapsed": true
   },
   "outputs": [],
   "source": []
  }
 ],
 "metadata": {
  "anaconda-cloud": {},
  "kernelspec": {
   "display_name": "Python [Root]",
   "language": "python",
   "name": "Python [Root]"
  },
  "language_info": {
   "codemirror_mode": {
    "name": "ipython",
    "version": 2
   },
   "file_extension": ".py",
   "mimetype": "text/x-python",
   "name": "python",
   "nbconvert_exporter": "python",
   "pygments_lexer": "ipython2",
   "version": "2.7.12"
  }
 },
 "nbformat": 4,
 "nbformat_minor": 0
}
